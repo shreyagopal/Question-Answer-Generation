{
  "nbformat": 4,
  "nbformat_minor": 0,
  "metadata": {
    "colab": {
      "name": "Importing data.ipynb",
      "provenance": []
    },
    "kernelspec": {
      "name": "python3",
      "display_name": "Python 3"
    }
  },
  "cells": [
    {
      "cell_type": "code",
      "metadata": {
        "id": "VQXJ7ruCptfo",
        "colab": {
          "base_uri": "https://localhost:8080/"
        },
        "outputId": "37cbbe47-20f2-46d2-db93-1bff150165aa"
      },
      "source": [
        "import pandas as pd \r\n",
        "import numpy as np\r\n",
        "import nltk\r\n",
        "nltk.download('punkt')\r\n",
        "from sklearn.model_selection import train_test_split\r\n",
        "from gensim.scripts.glove2word2vec import glove2word2vec\r\n",
        "import random"
      ],
      "execution_count": 8,
      "outputs": [
        {
          "output_type": "stream",
          "text": [
            "[nltk_data] Downloading package punkt to /root/nltk_data...\n",
            "[nltk_data]   Unzipping tokenizers/punkt.zip.\n"
          ],
          "name": "stdout"
        }
      ]
    },
    {
      "cell_type": "code",
      "metadata": {
        "colab": {
          "base_uri": "https://localhost:8080/",
          "height": 285
        },
        "id": "H_Jxqc6ha2U0",
        "outputId": "1af9baab-fd7c-422e-c468-d9e55ba56cfd"
      },
      "source": [
        "df = pd.read_csv('/content/SQuAD-v1.1.csv')\r\n",
        "df.head()"
      ],
      "execution_count": 12,
      "outputs": [
        {
          "output_type": "execute_result",
          "data": {
            "text/html": [
              "<div>\n",
              "<style scoped>\n",
              "    .dataframe tbody tr th:only-of-type {\n",
              "        vertical-align: middle;\n",
              "    }\n",
              "\n",
              "    .dataframe tbody tr th {\n",
              "        vertical-align: top;\n",
              "    }\n",
              "\n",
              "    .dataframe thead th {\n",
              "        text-align: right;\n",
              "    }\n",
              "</style>\n",
              "<table border=\"1\" class=\"dataframe\">\n",
              "  <thead>\n",
              "    <tr style=\"text-align: right;\">\n",
              "      <th></th>\n",
              "      <th>title</th>\n",
              "      <th>context</th>\n",
              "      <th>question</th>\n",
              "      <th>answer</th>\n",
              "      <th>answer_start</th>\n",
              "      <th>answer_end</th>\n",
              "    </tr>\n",
              "  </thead>\n",
              "  <tbody>\n",
              "    <tr>\n",
              "      <th>0</th>\n",
              "      <td>University_of_Notre_Dame</td>\n",
              "      <td>Architecturally, the school has a Catholic cha...</td>\n",
              "      <td>To whom did the Virgin Mary allegedly appear i...</td>\n",
              "      <td>Saint Bernadette Soubirous</td>\n",
              "      <td>515</td>\n",
              "      <td>541</td>\n",
              "    </tr>\n",
              "    <tr>\n",
              "      <th>1</th>\n",
              "      <td>University_of_Notre_Dame</td>\n",
              "      <td>Architecturally, the school has a Catholic cha...</td>\n",
              "      <td>What is in front of the Notre Dame Main Building?</td>\n",
              "      <td>a copper statue of Christ</td>\n",
              "      <td>188</td>\n",
              "      <td>213</td>\n",
              "    </tr>\n",
              "    <tr>\n",
              "      <th>2</th>\n",
              "      <td>University_of_Notre_Dame</td>\n",
              "      <td>Architecturally, the school has a Catholic cha...</td>\n",
              "      <td>The Basilica of the Sacred heart at Notre Dame...</td>\n",
              "      <td>the Main Building</td>\n",
              "      <td>279</td>\n",
              "      <td>296</td>\n",
              "    </tr>\n",
              "    <tr>\n",
              "      <th>3</th>\n",
              "      <td>University_of_Notre_Dame</td>\n",
              "      <td>Architecturally, the school has a Catholic cha...</td>\n",
              "      <td>What is the Grotto at Notre Dame?</td>\n",
              "      <td>a Marian place of prayer and reflection</td>\n",
              "      <td>381</td>\n",
              "      <td>420</td>\n",
              "    </tr>\n",
              "    <tr>\n",
              "      <th>4</th>\n",
              "      <td>University_of_Notre_Dame</td>\n",
              "      <td>Architecturally, the school has a Catholic cha...</td>\n",
              "      <td>What sits on top of the Main Building at Notre...</td>\n",
              "      <td>a golden statue of the Virgin Mary</td>\n",
              "      <td>92</td>\n",
              "      <td>126</td>\n",
              "    </tr>\n",
              "  </tbody>\n",
              "</table>\n",
              "</div>"
            ],
            "text/plain": [
              "                      title  ... answer_end\n",
              "0  University_of_Notre_Dame  ...        541\n",
              "1  University_of_Notre_Dame  ...        213\n",
              "2  University_of_Notre_Dame  ...        296\n",
              "3  University_of_Notre_Dame  ...        420\n",
              "4  University_of_Notre_Dame  ...        126\n",
              "\n",
              "[5 rows x 6 columns]"
            ]
          },
          "metadata": {
            "tags": []
          },
          "execution_count": 12
        }
      ]
    },
    {
      "cell_type": "code",
      "metadata": {
        "colab": {
          "base_uri": "https://localhost:8080/"
        },
        "id": "uoTBy_DPbLTh",
        "outputId": "ea43b2e4-f68f-44d6-b34f-e35a11a63ba8"
      },
      "source": [
        "df.shape"
      ],
      "execution_count": 13,
      "outputs": [
        {
          "output_type": "execute_result",
          "data": {
            "text/plain": [
              "(87599, 6)"
            ]
          },
          "metadata": {
            "tags": []
          },
          "execution_count": 13
        }
      ]
    },
    {
      "cell_type": "code",
      "metadata": {
        "id": "p_SS31hXbQSU"
      },
      "source": [
        "df['tokenized_questions'] = df['question'].apply(nltk.word_tokenize)\r\n",
        "df['tokenized_context'] = df['context'].apply(nltk.word_tokenize)"
      ],
      "execution_count": 14,
      "outputs": []
    },
    {
      "cell_type": "code",
      "metadata": {
        "colab": {
          "base_uri": "https://localhost:8080/",
          "height": 200
        },
        "id": "Eyx-y5CdDIfE",
        "outputId": "ca509ffb-e4b9-45e2-d926-5d0d39dd559f"
      },
      "source": [
        "df2 = df[['tokenized_questions', 'context', 'tokenized_context']]\r\n",
        "df2.head()"
      ],
      "execution_count": 15,
      "outputs": [
        {
          "output_type": "execute_result",
          "data": {
            "text/html": [
              "<div>\n",
              "<style scoped>\n",
              "    .dataframe tbody tr th:only-of-type {\n",
              "        vertical-align: middle;\n",
              "    }\n",
              "\n",
              "    .dataframe tbody tr th {\n",
              "        vertical-align: top;\n",
              "    }\n",
              "\n",
              "    .dataframe thead th {\n",
              "        text-align: right;\n",
              "    }\n",
              "</style>\n",
              "<table border=\"1\" class=\"dataframe\">\n",
              "  <thead>\n",
              "    <tr style=\"text-align: right;\">\n",
              "      <th></th>\n",
              "      <th>tokenized_questions</th>\n",
              "      <th>context</th>\n",
              "      <th>tokenized_context</th>\n",
              "    </tr>\n",
              "  </thead>\n",
              "  <tbody>\n",
              "    <tr>\n",
              "      <th>0</th>\n",
              "      <td>[To, whom, did, the, Virgin, Mary, allegedly, ...</td>\n",
              "      <td>Architecturally, the school has a Catholic cha...</td>\n",
              "      <td>[Architecturally, ,, the, school, has, a, Cath...</td>\n",
              "    </tr>\n",
              "    <tr>\n",
              "      <th>1</th>\n",
              "      <td>[What, is, in, front, of, the, Notre, Dame, Ma...</td>\n",
              "      <td>Architecturally, the school has a Catholic cha...</td>\n",
              "      <td>[Architecturally, ,, the, school, has, a, Cath...</td>\n",
              "    </tr>\n",
              "    <tr>\n",
              "      <th>2</th>\n",
              "      <td>[The, Basilica, of, the, Sacred, heart, at, No...</td>\n",
              "      <td>Architecturally, the school has a Catholic cha...</td>\n",
              "      <td>[Architecturally, ,, the, school, has, a, Cath...</td>\n",
              "    </tr>\n",
              "    <tr>\n",
              "      <th>3</th>\n",
              "      <td>[What, is, the, Grotto, at, Notre, Dame, ?]</td>\n",
              "      <td>Architecturally, the school has a Catholic cha...</td>\n",
              "      <td>[Architecturally, ,, the, school, has, a, Cath...</td>\n",
              "    </tr>\n",
              "    <tr>\n",
              "      <th>4</th>\n",
              "      <td>[What, sits, on, top, of, the, Main, Building,...</td>\n",
              "      <td>Architecturally, the school has a Catholic cha...</td>\n",
              "      <td>[Architecturally, ,, the, school, has, a, Cath...</td>\n",
              "    </tr>\n",
              "  </tbody>\n",
              "</table>\n",
              "</div>"
            ],
            "text/plain": [
              "                                 tokenized_questions  ...                                  tokenized_context\n",
              "0  [To, whom, did, the, Virgin, Mary, allegedly, ...  ...  [Architecturally, ,, the, school, has, a, Cath...\n",
              "1  [What, is, in, front, of, the, Notre, Dame, Ma...  ...  [Architecturally, ,, the, school, has, a, Cath...\n",
              "2  [The, Basilica, of, the, Sacred, heart, at, No...  ...  [Architecturally, ,, the, school, has, a, Cath...\n",
              "3        [What, is, the, Grotto, at, Notre, Dame, ?]  ...  [Architecturally, ,, the, school, has, a, Cath...\n",
              "4  [What, sits, on, top, of, the, Main, Building,...  ...  [Architecturally, ,, the, school, has, a, Cath...\n",
              "\n",
              "[5 rows x 3 columns]"
            ]
          },
          "metadata": {
            "tags": []
          },
          "execution_count": 15
        }
      ]
    },
    {
      "cell_type": "code",
      "metadata": {
        "colab": {
          "base_uri": "https://localhost:8080/",
          "height": 200
        },
        "id": "rAf7xUWlDQDO",
        "outputId": "f67db210-5e84-46ad-fc83-52c04589ce15"
      },
      "source": [
        "train, test = train_test_split(df2, test_size=0.2)\r\n",
        "train.head()"
      ],
      "execution_count": 16,
      "outputs": [
        {
          "output_type": "execute_result",
          "data": {
            "text/html": [
              "<div>\n",
              "<style scoped>\n",
              "    .dataframe tbody tr th:only-of-type {\n",
              "        vertical-align: middle;\n",
              "    }\n",
              "\n",
              "    .dataframe tbody tr th {\n",
              "        vertical-align: top;\n",
              "    }\n",
              "\n",
              "    .dataframe thead th {\n",
              "        text-align: right;\n",
              "    }\n",
              "</style>\n",
              "<table border=\"1\" class=\"dataframe\">\n",
              "  <thead>\n",
              "    <tr style=\"text-align: right;\">\n",
              "      <th></th>\n",
              "      <th>tokenized_questions</th>\n",
              "      <th>context</th>\n",
              "      <th>tokenized_context</th>\n",
              "    </tr>\n",
              "  </thead>\n",
              "  <tbody>\n",
              "    <tr>\n",
              "      <th>47078</th>\n",
              "      <td>[Roughly, how, many, passengers, travel, daily...</td>\n",
              "      <td>London's first and only cable car, known as th...</td>\n",
              "      <td>[London, 's, first, and, only, cable, car, ,, ...</td>\n",
              "    </tr>\n",
              "    <tr>\n",
              "      <th>72460</th>\n",
              "      <td>[What, the, profession, of, Gian, Carlo, Menot...</td>\n",
              "      <td>Charleston is known for its unique culture, wh...</td>\n",
              "      <td>[Charleston, is, known, for, its, unique, cult...</td>\n",
              "    </tr>\n",
              "    <tr>\n",
              "      <th>34007</th>\n",
              "      <td>[Which, works, by, the, Grub, Street, Hacks, `...</td>\n",
              "      <td>The writers of Grub Street, the Grub Street Ha...</td>\n",
              "      <td>[The, writers, of, Grub, Street, ,, the, Grub,...</td>\n",
              "    </tr>\n",
              "    <tr>\n",
              "      <th>35108</th>\n",
              "      <td>[What, article, of, the, fourth, Michigan, Con...</td>\n",
              "      <td>Several states have never had capital punishme...</td>\n",
              "      <td>[Several, states, have, never, had, capital, p...</td>\n",
              "    </tr>\n",
              "    <tr>\n",
              "      <th>56647</th>\n",
              "      <td>[Where, was, the, TV, Tower, located, ?]</td>\n",
              "      <td>On January 13, 1991, Soviet troops, along with...</td>\n",
              "      <td>[On, January, 13, ,, 1991, ,, Soviet, troops, ...</td>\n",
              "    </tr>\n",
              "  </tbody>\n",
              "</table>\n",
              "</div>"
            ],
            "text/plain": [
              "                                     tokenized_questions  ...                                  tokenized_context\n",
              "47078  [Roughly, how, many, passengers, travel, daily...  ...  [London, 's, first, and, only, cable, car, ,, ...\n",
              "72460  [What, the, profession, of, Gian, Carlo, Menot...  ...  [Charleston, is, known, for, its, unique, cult...\n",
              "34007  [Which, works, by, the, Grub, Street, Hacks, `...  ...  [The, writers, of, Grub, Street, ,, the, Grub,...\n",
              "35108  [What, article, of, the, fourth, Michigan, Con...  ...  [Several, states, have, never, had, capital, p...\n",
              "56647           [Where, was, the, TV, Tower, located, ?]  ...  [On, January, 13, ,, 1991, ,, Soviet, troops, ...\n",
              "\n",
              "[5 rows x 3 columns]"
            ]
          },
          "metadata": {
            "tags": []
          },
          "execution_count": 16
        }
      ]
    }
  ]
}